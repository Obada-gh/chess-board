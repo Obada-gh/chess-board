{
 "cells": [
  {
   "cell_type": "code",
   "execution_count": 5,
   "id": "6f5c6447-b1ce-4264-aaab-ae9f79b5e89e",
   "metadata": {},
   "outputs": [
    {
     "name": "stdout",
     "output_type": "stream",
     "text": [
      "True\n"
     ]
    },
    {
     "data": {
      "image/png": "[encoded data removed]",
      "text/plain": [
       "<Figure size 432x288 with 1 Axes>"
      ]
     },
     "metadata": {
      "needs_background": "light"
     },
     "output_type": "display_data"
    }
   ],
   "source": [
    "%matplotlib inline\n",
    "import matplotlib.pyplot as plt\n",
    "import matplotlib.image as mpimg\n",
    "import numpy as np\n",
    "from random import random\n",
    "img = mpimg.imread('./lemon.jpg')\n",
    "imgplot = plt.imshow(img)\n",
    "\n",
    "#black = (0,0,0), white = (1,1,1),blue = (0,1,1),red = (1,.2,0)\n",
    "class ChessBoard:\n",
    "    white = [1,1,1]\n",
    "    black = [0,0,0]\n",
    "    red = [1,.2,0]\n",
    "    blue = [0,1,1]\n",
    "    def __init__(self):\n",
    "        self.cube=np.ones((8,8,3))\n",
    "        for i in range(len(self.cube)):\n",
    "            for j in range(len(self.cube)):\n",
    "                if i%2==0 and j%2==1:\n",
    "                    self.cube[i,j]=ChessBoard.black\n",
    "                if i%2==1 and j%2==0:\n",
    "                    self.cube[i,j]=ChessBoard.black\n",
    "                    \n",
    "    def add_red(self,row,column):\n",
    "        self.redi=row\n",
    "        self.redj=column\n",
    "        self.cube[row,column]=ChessBoard.red\n",
    "    def add_blue(self,row,column):\n",
    "        self.bluei=row\n",
    "        self.bluej=column\n",
    "        self.cube[row,column]=ChessBoard.blue\n",
    "    def render(self):\n",
    "        plt.imshow(self.cube)\n",
    "        \n",
    "    def is_under_attack(self):\n",
    "        if self.redi == self.bluei or self.redj==self.bluej:\n",
    "            print(True)\n",
    "            return True\n",
    "        if abs(self.redi - self.bluei) == abs(self.redj - self.bluej):\n",
    "            print(True)\n",
    "            return True\n",
    "        print(False)\n",
    "        return False\n",
    "\n",
    "    \n",
    "        \n",
    "if __name__=='__main__':\n",
    "    chess = ChessBoard()\n",
    "    chess.add_red(5,0)\n",
    "    chess.add_blue(0,5)\n",
    "    chess.render()\n",
    "    chess.is_under_attack()"
   ]
  },
  {
   "cell_type": "code",
   "execution_count": 12,
   "id": "42c471f1-a427-48e9-b438-c0c7ff8554bc",
   "metadata": {},
   "outputs": [
    {
     "name": "stdout",
     "output_type": "stream",
     "text": [
      "True\n",
      "under attack\n"
     ]
    },
    {
     "data": {
      "image/png": "[encoded data removed]",
      "text/plain": [
       "<Figure size 432x288 with 1 Axes>"
      ]
     },
     "metadata": {
      "needs_background": "light"
     },
     "output_type": "display_data"
    }
   ],
   "source": [
    "def test_same_row():\n",
    "    chess = ChessBoard()\n",
    "    chess.add_red(1,0)\n",
    "    chess.add_blue(1,0)\n",
    "    chess.render()\n",
    "    actual = chess.is_under_attack()\n",
    "    expected = True\n",
    "    assert actual == expected\n",
    "    print('under attack')\n",
    "    \n",
    "test_same_row()\n",
    "    "
   ]
  },
  {
   "cell_type": "code",
   "execution_count": 13,
   "id": "f869a4a0-e41b-49cf-9a68-5ca71fa83e75",
   "metadata": {},
   "outputs": [
    {
     "name": "stdout",
     "output_type": "stream",
     "text": [
      "True\n",
      "under attack\n"
     ]
    },
    {
     "data": {
      "image/png": "[encoded data removed]",
      "text/plain": [
       "<Figure size 432x288 with 1 Axes>"
      ]
     },
     "metadata": {
      "needs_background": "light"
     },
     "output_type": "display_data"
    }
   ],
   "source": [
    "def test_same_column():\n",
    "    chess = ChessBoard()\n",
    "    chess.add_red(0,1)\n",
    "    chess.add_blue(0,1)\n",
    "    chess.render()\n",
    "    actual = chess.is_under_attack()\n",
    "    expected = True\n",
    "    assert actual == expected\n",
    "    print('under attack')\n",
    "    \n",
    "test_same_column()"
   ]
  },
  {
   "cell_type": "code",
   "execution_count": 14,
   "id": "c971304d-f2eb-45c9-94c1-a57f3c91b3f7",
   "metadata": {},
   "outputs": [
    {
     "name": "stdout",
     "output_type": "stream",
     "text": [
      "True\n",
      "under attack\n"
     ]
    },
    {
     "data": {
      "image/png": "[encoded data removed]",
      "text/plain": [
       "<Figure size 432x288 with 1 Axes>"
      ]
     },
     "metadata": {
      "needs_background": "light"
     },
     "output_type": "display_data"
    }
   ],
   "source": [
    "def test_same_diagonal():\n",
    "    chess = ChessBoard()\n",
    "    chess.add_red(5,0)\n",
    "    chess.add_blue(0,5)\n",
    "    chess.render()\n",
    "    actual = chess.is_under_attack()\n",
    "    expected = True\n",
    "    assert actual == expected\n",
    "    print('under attack')\n",
    "    \n",
    "test_same_diagonal()"
   ]
  },
  {
   "cell_type": "code",
   "execution_count": 15,
   "id": "e7eaeeda-7f5e-47e8-81c9-0a1e25dbe5d0",
   "metadata": {},
   "outputs": [
    {
     "name": "stdout",
     "output_type": "stream",
     "text": [
      "True\n"
     ]
    },
    {
     "ename": "AssertionError",
     "evalue": "",
     "output_type": "error",
     "traceback": [
      "\u001b[0;31m---------------------------------------------------------------------------\u001b[0m",
      "\u001b[0;31mAssertionError\u001b[0m                            Traceback (most recent call last)",
      "\u001b[0;32m<ipython-input-15-df86c5cb7832>\u001b[0m in \u001b[0;36m<module>\u001b[0;34m\u001b[0m\n\u001b[1;32m      9\u001b[0m     \u001b[0mprint\u001b[0m\u001b[0;34m(\u001b[0m\u001b[0;34m'NOT be under attack'\u001b[0m\u001b[0;34m)\u001b[0m\u001b[0;34m\u001b[0m\u001b[0;34m\u001b[0m\u001b[0m\n\u001b[1;32m     10\u001b[0m \u001b[0;34m\u001b[0m\u001b[0m\n\u001b[0;32m---> 11\u001b[0;31m \u001b[0mtest_any_coordinates\u001b[0m\u001b[0;34m(\u001b[0m\u001b[0;34m)\u001b[0m\u001b[0;34m\u001b[0m\u001b[0;34m\u001b[0m\u001b[0m\n\u001b[0m",
      "\u001b[0;32m<ipython-input-15-df86c5cb7832>\u001b[0m in \u001b[0;36mtest_any_coordinates\u001b[0;34m()\u001b[0m\n\u001b[1;32m      6\u001b[0m     \u001b[0mactual\u001b[0m \u001b[0;34m=\u001b[0m \u001b[0mchess\u001b[0m\u001b[0;34m.\u001b[0m\u001b[0mis_under_attack\u001b[0m\u001b[0;34m(\u001b[0m\u001b[0;34m)\u001b[0m\u001b[0;34m\u001b[0m\u001b[0;34m\u001b[0m\u001b[0m\n\u001b[1;32m      7\u001b[0m     \u001b[0mexpected\u001b[0m \u001b[0;34m=\u001b[0m \u001b[0;32mFalse\u001b[0m\u001b[0;34m\u001b[0m\u001b[0;34m\u001b[0m\u001b[0m\n\u001b[0;32m----> 8\u001b[0;31m     \u001b[0;32massert\u001b[0m \u001b[0mactual\u001b[0m \u001b[0;34m==\u001b[0m \u001b[0mexpected\u001b[0m\u001b[0;34m\u001b[0m\u001b[0;34m\u001b[0m\u001b[0m\n\u001b[0m\u001b[1;32m      9\u001b[0m     \u001b[0mprint\u001b[0m\u001b[0;34m(\u001b[0m\u001b[0;34m'NOT be under attack'\u001b[0m\u001b[0;34m)\u001b[0m\u001b[0;34m\u001b[0m\u001b[0;34m\u001b[0m\u001b[0m\n\u001b[1;32m     10\u001b[0m \u001b[0;34m\u001b[0m\u001b[0m\n",
      "\u001b[0;31mAssertionError\u001b[0m: "
     ]
    },
    {
     "data": {
      "image/png": "[encoded data removed]",
      "text/plain": [
       "<Figure size 432x288 with 1 Axes>"
      ]
     },
     "metadata": {
      "needs_background": "light"
     },
     "output_type": "display_data"
    }
   ],
   "source": [
    "def test_any_coordinates():\n",
    "    chess = ChessBoard()\n",
    "    chess.add_red(1,2)\n",
    "    chess.add_blue(3,4)\n",
    "    chess.render()\n",
    "    actual = chess.is_under_attack()\n",
    "    expected = False\n",
    "    assert actual == expected\n",
    "    print('NOT be under attack')\n",
    "    \n",
    "test_any_coordinates()"
   ]
  },
  {
   "cell_type": "code",
   "execution_count": null,
   "id": "f919b5ba-6e8f-4308-a194-856c14b32b3f",
   "metadata": {},
   "outputs": [],
   "source": []
  }
 ],
 "metadata": {
  "kernelspec": {
   "display_name": "Python 3",
   "language": "python",
   "name": "python3"
  },
  "language_info": {
   "codemirror_mode": {
    "name": "ipython",
    "version": 3
   },
   "file_extension": ".py",
   "mimetype": "text/x-python",
   "name": "python",
   "nbconvert_exporter": "python",
   "pygments_lexer": "ipython3",
   "version": "3.9.4"
  }
 },
 "nbformat": 4,
 "nbformat_minor": 5
}
